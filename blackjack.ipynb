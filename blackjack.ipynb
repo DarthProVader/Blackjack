{
 "cells": [
  {
   "cell_type": "code",
   "execution_count": 1,
   "metadata": {},
   "outputs": [
    {
     "ename": "SyntaxError",
     "evalue": "invalid syntax (<ipython-input-1-f1405cd35360>, line 1)",
     "output_type": "error",
     "traceback": [
      "\u001b[1;36m  File \u001b[1;32m\"<ipython-input-1-f1405cd35360>\"\u001b[1;36m, line \u001b[1;32m1\u001b[0m\n\u001b[1;33m    Napiš funkci, která vrací jména domácích zvířat (zadaných argumentem), která začínají na k.\u001b[0m\n\u001b[1;37m          ^\u001b[0m\n\u001b[1;31mSyntaxError\u001b[0m\u001b[1;31m:\u001b[0m invalid syntax\n"
     ]
    }
   ],
   "source": [
    "Napiš funkci, která vrací jména domácích zvířat (zadaných argumentem), která začínají na k.\n",
    "lower()startswith()\n",
    "\n",
    "[[\".\"] * 10] * 10\n",
    "\n",
    "from intertools import chain\n",
    "\n",
    "ncurses - pro jezdeni hada\n",
    "\n",
    "mravenci.qex.cz\n",
    "\n",
    "jakpsatweb.cz\n",
    "demagog.cz\n",
    "hlidacstatu.cz\n",
    "cesko.digital"
   ]
  },
  {
   "cell_type": "code",
   "execution_count": 10,
   "metadata": {},
   "outputs": [],
   "source": [
    "\n",
    "import random\n",
    "\n",
    "suits = ('Hearts', 'Diamonds', 'Spades', 'Clubs')\n",
    "ranks = ('Two', 'Three', 'Four', 'Five', 'Six', 'Seven', 'Eight', 'Nine', 'Ten', 'Jack', 'Queen', 'King', 'Ace')\n",
    "values = {'Two':2, 'Three':3, 'Four':4, 'Five':5, 'Six':6, 'Seven':7, 'Eight':8, 'Nine':9, 'Ten':10, 'Jack':10,\n",
    "         'Queen':10, 'King':10, 'Ace':11}\n",
    "\n",
    "class Card:\n",
    "    \n",
    "    def __init__(self,suit,rank):\n",
    "        self.suit = suit\n",
    "        self.rank = rank\n",
    "        self.value = values[rank]\n",
    "        \n",
    "    def __str__(self):\n",
    "        return self.rank + ' of ' + self.suit\n",
    "\n",
    "class Deck:\n",
    "    \n",
    "    def __init__(self):\n",
    "        # Only happens once upon creation of a new Deck\n",
    "        self.all_cards = [] \n",
    "        for suit in suits:\n",
    "            for rank in ranks:\n",
    "                # This assumes the Card class has already been defined!\n",
    "                self.all_cards.append(Card(suit,rank))\n",
    "                \n",
    "    def shuffle(self):\n",
    "        random.shuffle(self.all_cards)\n",
    "        \n",
    "    def deal_one(self):\n",
    "        return self.all_cards.pop(0)  \n",
    "\n",
    "class Player:\n",
    "    \n",
    "    def __init__(self,name):\n",
    "        self.name = name\n",
    "        # A new player has no cards\n",
    "        self.all_cards = [] \n",
    "        \n",
    "    def remove_one(self):\n",
    "        # Note we remove one card from the list of all_cards\n",
    "        # We state 0 to remove from the \"top\" of the deck\n",
    "        # We'll imagine index -1 as the bottom of the deck\n",
    "        return self.all_cards.pop(0)\n",
    "    \n",
    "    def add_cards(self,new_cards):\n",
    "        if type(new_cards) == type([]):\n",
    "            self.all_cards.extend(new_cards)\n",
    "        else:\n",
    "            self.all_cards.append(new_cards)\n",
    "    \n",
    "    def __str__(self):\n",
    "        return f'Player {self.name} has {len(self.all_cards)} cards.'"
   ]
  },
  {
   "cell_type": "code",
   "execution_count": 11,
   "metadata": {},
   "outputs": [],
   "source": [
    "two_hearts = Card(suits[0],ranks[0])\n",
    "new_deck = Deck()\n",
    "new_deck.shuffle()"
   ]
  },
  {
   "cell_type": "code",
   "execution_count": 12,
   "metadata": {},
   "outputs": [],
   "source": [
    "gambler = Player(\"Pavel\")\n",
    "dealer = Player(\"Dealer\")"
   ]
  },
  {
   "cell_type": "code",
   "execution_count": 13,
   "metadata": {},
   "outputs": [],
   "source": [
    "for i in range(2):\n",
    "    gambler.add_cards(new_deck.deal_one())"
   ]
  },
  {
   "cell_type": "code",
   "execution_count": 14,
   "metadata": {},
   "outputs": [],
   "source": [
    "def hand_value():\n",
    "    result = 0\n",
    "    for i in range(len(gambler.all_cards)):\n",
    "        result += gambler.all_cards[i].value\n",
    "    return result"
   ]
  },
  {
   "cell_type": "code",
   "execution_count": 15,
   "metadata": {},
   "outputs": [],
   "source": [
    "def hit():\n",
    "    gambler.add_cards(new_deck.deal_one())"
   ]
  },
  {
   "cell_type": "code",
   "execution_count": 19,
   "metadata": {},
   "outputs": [],
   "source": [
    "chips = 500\n",
    "pot = 0\n",
    "def bet():\n",
    "    global chips\n",
    "    global pot\n",
    "    while True:\n",
    "        amount = int(input(f\"How much do you want to bet? Available chips: {chips}\\n\"))\n",
    "        if amount <= chips:\n",
    "            chips -= amount\n",
    "            break\n",
    "        else:\n",
    "            print(\"You do not have enough chips!\")\n",
    "    pot += amount"
   ]
  },
  {
   "cell_type": "code",
   "execution_count": 17,
   "metadata": {},
   "outputs": [],
   "source": [
    "def decision():\n",
    "    while True:\n",
    "        another_card = input(\"Would you like another card? (yes/no)\\n\")\n",
    "        if another_card.lower() == \"yes\":\n",
    "            hit()\n",
    "            print(hand_value())\n",
    "        elif another_card.lower() == \"no\":\n",
    "            return False\n",
    "        else:\n",
    "            print(\"Incorrect input!\")"
   ]
  },
  {
   "cell_type": "code",
   "execution_count": 18,
   "metadata": {},
   "outputs": [
    {
     "name": "stdout",
     "output_type": "stream",
     "text": [
      "Would you like another card? (yes/no)\n",
      "yes\n",
      "29\n",
      "Would you like another card? (yes/no)\n",
      "yes\n",
      "40\n",
      "Would you like another card? (yes/no)\n",
      "no\n"
     ]
    },
    {
     "data": {
      "text/plain": [
       "False"
      ]
     },
     "execution_count": 18,
     "metadata": {},
     "output_type": "execute_result"
    }
   ],
   "source": [
    "decision()"
   ]
  },
  {
   "cell_type": "code",
   "execution_count": 20,
   "metadata": {},
   "outputs": [
    {
     "name": "stdout",
     "output_type": "stream",
     "text": [
      "How much do you want to bet? Available chips: 500\n",
      "600\n",
      "You do not have enough chips!\n",
      "How much do you want to bet? Available chips: 500\n",
      "1000\n",
      "You do not have enough chips!\n",
      "How much do you want to bet? Available chips: 500\n",
      "-5\n"
     ]
    }
   ],
   "source": [
    "bet()"
   ]
  },
  {
   "cell_type": "code",
   "execution_count": null,
   "metadata": {},
   "outputs": [],
   "source": []
  }
 ],
 "metadata": {
  "kernelspec": {
   "display_name": "Python 3",
   "language": "python",
   "name": "python3"
  },
  "language_info": {
   "codemirror_mode": {
    "name": "ipython",
    "version": 3
   },
   "file_extension": ".py",
   "mimetype": "text/x-python",
   "name": "python",
   "nbconvert_exporter": "python",
   "pygments_lexer": "ipython3",
   "version": "3.8.6"
  }
 },
 "nbformat": 4,
 "nbformat_minor": 4
}
